{
  "nbformat": 4,
  "nbformat_minor": 0,
  "metadata": {
    "colab": {
      "provenance": [],
      "authorship_tag": "ABX9TyNqf2XF3hJh4vTVcco6/uzB",
      "include_colab_link": true
    },
    "kernelspec": {
      "name": "python3",
      "display_name": "Python 3"
    },
    "language_info": {
      "name": "python"
    }
  },
  "cells": [
    {
      "cell_type": "markdown",
      "metadata": {
        "id": "view-in-github",
        "colab_type": "text"
      },
      "source": [
        "<a href=\"https://colab.research.google.com/github/Moon-KT/test/blob/main/bai_1_2.ipynb\" target=\"_parent\"><img src=\"https://colab.research.google.com/assets/colab-badge.svg\" alt=\"Open In Colab\"/></a>"
      ]
    },
    {
      "cell_type": "code",
      "execution_count": null,
      "metadata": {
        "colab": {
          "base_uri": "https://localhost:8080/"
        },
        "id": "1iQpjRuam0d9",
        "outputId": "3cd5441c-4635-46a8-80e0-0c9c6c65696e"
      },
      "outputs": [
        {
          "output_type": "stream",
          "name": "stdout",
          "text": [
            "Nhap a = \n",
            "12\n",
            "Nhap b = \n",
            "3\n",
            "a. 12 + 3  =  15\n",
            "b. 12 - 3  =  9\n",
            "c. 12 * 3  =  36\n",
            "d. 12 / 3  =  4.0\n",
            "e. 12 ** 3  =  1728\n",
            "f. 12 % 3  =  0\n",
            "Compare 12  with  3  : a > b\n",
            "12 AND 3  =  3\n",
            "12 OR 3  =  12\n",
            "12 XOR 3  =  False\n",
            "NOT 12  ==  3  =  True\n",
            "12 dịch phải 5 bit: 0\n",
            "12 dịch trái 6 bit 768\n",
            "0\n",
            "0\n",
            "1\n",
            "1\n"
          ]
        }
      ],
      "source": [
        "\n",
        "print(\"Nhap a = \" )\n",
        "a = int(input())\n",
        "\n",
        "print(\"Nhap b = \")\n",
        "b = int(input())\n",
        "\n",
        "\n",
        "print( \"a.\", a ,\"+\", b ,\" = \", a + b )\n",
        "print( \"b.\", a ,\"-\", b ,\" = \", a - b )\n",
        "print( \"c.\", a ,\"*\", b ,\" = \", a*b )\n",
        "print( \"d.\", a ,\"/\", b ,\" = \", a/b )\n",
        "print( \"e.\", a ,\"**\", b ,\" = \", a**b  )\n",
        "print( \"f.\", a ,\"%\", b ,\" = \", a%b )\n",
        "\n",
        "print(\"Compare\", a ,\" with \", b ,\" :\", \"a == b\" if a == b else \"a > b\" if a > b else \" a < b \")\n",
        "\n",
        "print( a ,\"AND\", b ,\" = \", a and b  )\n",
        "print( a ,\"OR\", b ,\" = \", a or b  )\n",
        "print( a ,\"XOR\", b ,\" = \", not (a or b)  )\n",
        "print( \"NOT\", a ,\" == \", b ,\" = \", not a == b  )\n",
        "print( a ,\"dịch phải 5 bit:\", a>>5 )\n",
        "print( a ,\"dịch trái 6 bit\", a << 6 )\n",
        "\n",
        "c = bin(a)\n",
        "for i in c[2:]:\n",
        "  i = \"0\" if i == \"1\" else \"1\"\n",
        "  print(i)"
      ]
    }
  ]
}